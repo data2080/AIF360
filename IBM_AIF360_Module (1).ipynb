{
 "cells": [
  {
   "cell_type": "markdown",
   "metadata": {},
   "source": [
    "# Understanding Fairness Through Analyzing IBM's AIF360"
   ]
  },
  {
   "cell_type": "markdown",
   "metadata": {},
   "source": [
    "#### Welcome to a introductory module to IBM's AIF360. AIF360 is a AI Fairness package that allows users to evaluate their models for bias during preprocessing, during processing and post-processing. Furthermore, the package allows interference with the model in the three stages mentioned afore, and also serves as a tool to create fairness in your own AI or ML model."
   ]
  },
  {
   "cell_type": "markdown",
   "metadata": {},
   "source": [
    "### Importing Packages and Data"
   ]
  },
  {
   "cell_type": "code",
   "execution_count": 1,
   "metadata": {},
   "outputs": [
    {
     "name": "stdout",
     "output_type": "stream",
     "text": [
      "Collecting aif360\n",
      "  Using cached https://files.pythonhosted.org/packages/54/a7/de16a858cbd70d9d7b9c79c06286d79bcc6ca58507f919c656e8c324286c/aif360-0.2.3-py3-none-any.whl\n",
      "Requirement already satisfied: pandas>=0.23.3 in /opt/conda/lib/python3.7/site-packages (from aif360) (0.25.3)\n",
      "Requirement already satisfied: scikit-learn in /opt/conda/lib/python3.7/site-packages (from aif360) (0.21.3)\n",
      "Requirement already satisfied: scipy in /opt/conda/lib/python3.7/site-packages (from aif360) (1.3.2)\n",
      "Requirement already satisfied: numpy>=1.16 in /opt/conda/lib/python3.7/site-packages (from aif360) (1.17.3)\n",
      "Requirement already satisfied: python-dateutil>=2.6.1 in /opt/conda/lib/python3.7/site-packages (from pandas>=0.23.3->aif360) (2.8.1)\n",
      "Requirement already satisfied: pytz>=2017.2 in /opt/conda/lib/python3.7/site-packages (from pandas>=0.23.3->aif360) (2019.3)\n",
      "Requirement already satisfied: joblib>=0.11 in /opt/conda/lib/python3.7/site-packages (from scikit-learn->aif360) (0.14.1)\n",
      "Requirement already satisfied: six>=1.5 in /opt/conda/lib/python3.7/site-packages (from python-dateutil>=2.6.1->pandas>=0.23.3->aif360) (1.13.0)\n",
      "Installing collected packages: aif360\n",
      "Successfully installed aif360-0.2.3\n"
     ]
    }
   ],
   "source": [
    "%%bash\n",
    "pip install aif360\n",
    "pip install eli5"
   ]
  },
  {
   "cell_type": "code",
   "execution_count": 84,
   "metadata": {},
   "outputs": [],
   "source": [
    "import numpy as np\n",
    "import pandas as pd\n",
    "from sklearn.metrics import accuracy_score\n",
    "# setting random seed\n",
    "np.random.seed(218)\n",
    "from aif360.datasets import AdultDataset\n",
    "from aif360.metrics import BinaryLabelDatasetMetric\n",
    "from aif360.metrics import DatasetMetric\n",
    "from aif360.algorithms.preprocessing import Reweighing\n",
    "from IPython.display import Markdown, display\n",
    "import warnings\n",
    "warnings.filterwarnings(\"ignore\")"
   ]
  },
  {
   "cell_type": "markdown",
   "metadata": {},
   "source": [
    "#### We will be using the AdultDataSet which serves as a CENSUS income dataset for adults with demographic information. The sensitive variable, or in other words, the variable that creates the biased \"priviledge\" is male."
   ]
  },
  {
   "cell_type": "code",
   "execution_count": 3,
   "metadata": {},
   "outputs": [
    {
     "name": "stdout",
     "output_type": "stream",
     "text": [
      "['age', 'education-num', 'sex']\n",
      "['income-per-year']\n"
     ]
    },
    {
     "name": "stderr",
     "output_type": "stream",
     "text": [
      "/opt/conda/lib/python3.7/site-packages/aif360/datasets/standard_dataset.py:121: FutureWarning: outer method for ufunc <ufunc 'equal'> is not implemented on pandas objects. Returning an ndarray, but in the future this will raise a 'NotImplementedError'. Consider explicitly converting the Series to an array with '.array' first.\n",
      "  priv = np.logical_or.reduce(np.equal.outer(vals, df[attr]))\n",
      "/opt/conda/lib/python3.7/site-packages/aif360/datasets/standard_dataset.py:142: FutureWarning: outer method for ufunc <ufunc 'equal'> is not implemented on pandas objects. Returning an ndarray, but in the future this will raise a 'NotImplementedError'. Consider explicitly converting the Series to an array with '.array' first.\n",
      "  df[label_name]))\n"
     ]
    }
   ],
   "source": [
    "single_protected = ['sex'] \n",
    "single_privileged = [['Male']]\n",
    "ad = AdultDataset(protected_attribute_names=single_protected,\n",
    "                  privileged_classes = single_privileged, \n",
    "                  categorical_features=[], \n",
    "                  # even if the priviledged features are not specified, they are kept\n",
    "                  features_to_keep=['age', 'education-num'])\n",
    "print(ad.feature_names)\n",
    "print(ad.label_names)"
   ]
  },
  {
   "cell_type": "code",
   "execution_count": 4,
   "metadata": {},
   "outputs": [],
   "source": [
    "dataset_orig_train, dataset_orig_test = ad.split([0.7], shuffle=True)\n",
    "privileged_groups = [{'sex': 1}]\n",
    "unprivileged_groups = [{'sex': 0}]"
   ]
  },
  {
   "cell_type": "markdown",
   "metadata": {},
   "source": [
    "#### Explore the Data"
   ]
  },
  {
   "cell_type": "code",
   "execution_count": 5,
   "metadata": {},
   "outputs": [
    {
     "data": {
      "text/markdown": [
       "#### Training Dataset shape"
      ],
      "text/plain": [
       "<IPython.core.display.Markdown object>"
      ]
     },
     "metadata": {},
     "output_type": "display_data"
    },
    {
     "name": "stdout",
     "output_type": "stream",
     "text": [
      "(34189, 3)\n"
     ]
    },
    {
     "data": {
      "text/markdown": [
       "#### Protected attribute names"
      ],
      "text/plain": [
       "<IPython.core.display.Markdown object>"
      ]
     },
     "metadata": {},
     "output_type": "display_data"
    },
    {
     "name": "stdout",
     "output_type": "stream",
     "text": [
      "['sex']\n"
     ]
    },
    {
     "data": {
      "text/markdown": [
       "#### Privileged and unprivileged protected attribute values"
      ],
      "text/plain": [
       "<IPython.core.display.Markdown object>"
      ]
     },
     "metadata": {},
     "output_type": "display_data"
    },
    {
     "name": "stdout",
     "output_type": "stream",
     "text": [
      "[array([1.])] [array([0.])]\n"
     ]
    },
    {
     "data": {
      "text/markdown": [
       "#### Dataset feature names"
      ],
      "text/plain": [
       "<IPython.core.display.Markdown object>"
      ]
     },
     "metadata": {},
     "output_type": "display_data"
    },
    {
     "name": "stdout",
     "output_type": "stream",
     "text": [
      "['age', 'education-num', 'sex']\n"
     ]
    }
   ],
   "source": [
    "display(Markdown(\"#### Training Dataset shape\"))\n",
    "print(dataset_orig_train.features.shape)\n",
    "display(Markdown(\"#### Protected attribute names\"))\n",
    "print(dataset_orig_train.protected_attribute_names)\n",
    "display(Markdown(\"#### Privileged and unprivileged protected attribute values\"))\n",
    "print(dataset_orig_train.privileged_protected_attributes, \n",
    "      dataset_orig_train.unprivileged_protected_attributes)\n",
    "display(Markdown(\"#### Dataset feature names\"))\n",
    "print(dataset_orig_train.feature_names)"
   ]
  },
  {
   "cell_type": "markdown",
   "metadata": {},
   "source": [
    "#### After we assign the priviledged and under-priviledged groups, we calculate the baseline fairness."
   ]
  },
  {
   "cell_type": "code",
   "execution_count": 6,
   "metadata": {},
   "outputs": [
    {
     "data": {
      "text/markdown": [
       "#### Original training dataset"
      ],
      "text/plain": [
       "<IPython.core.display.Markdown object>"
      ]
     },
     "metadata": {},
     "output_type": "display_data"
    },
    {
     "name": "stdout",
     "output_type": "stream",
     "text": [
      "Difference in mean outcomes between unprivileged and privileged groups = -0.192812\n"
     ]
    }
   ],
   "source": [
    "metric_orig_train = BinaryLabelDatasetMetric(dataset_orig_train, \n",
    "                                             unprivileged_groups=unprivileged_groups,\n",
    "                                             privileged_groups=privileged_groups)\n",
    "display(Markdown(\"#### Original training dataset\"))\n",
    "print(\"Difference in mean outcomes between unprivileged and privileged groups = %f\" % \n",
    "      metric_orig_train.mean_difference())"
   ]
  },
  {
   "cell_type": "markdown",
   "metadata": {},
   "source": [
    "#### This value shows that there is a mean difference between priviledged and underpriviledged groups, and the biad towards the privildeged group."
   ]
  },
  {
   "cell_type": "markdown",
   "metadata": {},
   "source": [
    "# Introduction of Fainess Algorithm: Inprocessing"
   ]
  },
  {
   "cell_type": "markdown",
   "metadata": {},
   "source": [
    "#### I will be introducing, executing and walking you through one of the inprocessing techniques that IBM AI360 has created to introduce fairness to the model. The interesting aspect of inprocess algorithm is the intervention the algorithm makes in the model, not post or pre analysis. \n",
    "\n",
    "#### Meta Fair Classifier takes the fairness metric, BinaryLabelDatasetMetric, as an input and optimizes the algorithm for it. It is essentially passing the fairness metric as a loss function, and trianing the model, while sacrificing from some of the accuracy, to be more fair. The example code for this introductory modelu is inspired by https://github.com/IBM/AIF360/blob/master/aif360/algorithms/inprocessing/meta_fair_classifier.py.\n",
    "\n",
    "#### Below we create the MetaFairClassifier class, and then create the fit and predict functions for the model. Here, we train the biased model, where algorithm has a tau of 0, motivating it to not be fair:"
   ]
  },
  {
   "cell_type": "code",
   "execution_count": 7,
   "metadata": {},
   "outputs": [
    {
     "name": "stdout",
     "output_type": "stream",
     "text": [
      "Import error: No module named 'tensorflow'\n"
     ]
    },
    {
     "data": {
      "text/plain": [
       "<aif360.algorithms.inprocessing.meta_fair_classifier.MetaFairClassifier at 0x7f997bf8e4d0>"
      ]
     },
     "execution_count": 7,
     "metadata": {},
     "output_type": "execute_result"
    }
   ],
   "source": [
    "import numpy as np\n",
    "import copy\n",
    "from aif360.algorithms import Transformer\n",
    "from aif360.algorithms.inprocessing.celisMeta.FalseDiscovery import FalseDiscovery\n",
    "from aif360.algorithms.inprocessing.celisMeta.StatisticalRate import StatisticalRate\n",
    "from aif360.algorithms.inprocessing.meta_fair_classifier import MetaFairClassifier\n",
    "\n",
    "mfc = MetaFairClassifier(tau=0, sensitive_attr=\"sex\")\n",
    "mfc.fit(dataset_orig_train)"
   ]
  },
  {
   "cell_type": "markdown",
   "metadata": {},
   "source": [
    "#### Make Predictions"
   ]
  },
  {
   "cell_type": "code",
   "execution_count": 8,
   "metadata": {},
   "outputs": [],
   "source": [
    "dataset_bias_test = mfc.predict(dataset_orig_test)"
   ]
  },
  {
   "cell_type": "markdown",
   "metadata": {},
   "source": [
    "#### Assess Bias"
   ]
  },
  {
   "cell_type": "code",
   "execution_count": 9,
   "metadata": {},
   "outputs": [
    {
     "data": {
      "text/markdown": [
       "#### Original training dataset"
      ],
      "text/plain": [
       "<IPython.core.display.Markdown object>"
      ]
     },
     "metadata": {},
     "output_type": "display_data"
    },
    {
     "name": "stdout",
     "output_type": "stream",
     "text": [
      "Difference in mean outcomes between unprivileged and privileged groups = -0.062442\n",
      "We can see that the mean outcome is still biased, towards the variable as before - sex: Male.\n"
     ]
    }
   ],
   "source": [
    "metric_orig_train = BinaryLabelDatasetMetric(dataset_bias_test, \n",
    "                                             unprivileged_groups=unprivileged_groups,\n",
    "                                             privileged_groups=privileged_groups)\n",
    "display(Markdown(\"#### Original training dataset\"))\n",
    "print(\"Difference in mean outcomes between unprivileged and privileged groups = %f\" % \n",
    "      metric_orig_train.mean_difference())\n",
    "print(\"We can see that the mean outcome is still biased, towards the variable as before - sex: Male.\")"
   ]
  },
  {
   "cell_type": "markdown",
   "metadata": {},
   "source": [
    "#### Accuracy of the Unconstrained Model"
   ]
  },
  {
   "cell_type": "code",
   "execution_count": 10,
   "metadata": {},
   "outputs": [
    {
     "name": "stdout",
     "output_type": "stream",
     "text": [
      "Accuracy Score: 0.778\n"
     ]
    }
   ],
   "source": [
    "predictions = [1 if y == dataset_orig_train.favorable_label else -1 for y in list(dataset_bias_test.labels)]\n",
    "y_test = np.array([1 if y == [dataset_orig_train.favorable_label] else -1 for y in dataset_orig_test.labels])\n",
    "print(\"Accuracy Score:\", round(accuracy_score(predictions, y_test),3))"
   ]
  },
  {
   "cell_type": "markdown",
   "metadata": {},
   "source": [
    "#### Now we will change the tau values in the algorithm to introduce fairness into the model, to see how the accuracy score and the fairness metric changes with it."
   ]
  },
  {
   "cell_type": "code",
   "execution_count": 11,
   "metadata": {},
   "outputs": [
    {
     "name": "stdout",
     "output_type": "stream",
     "text": [
      "#########################################\n",
      "Tau: 0.01\n",
      "Training Accuracy:  0.6112784813829009 , Training gamma:  0.6925396834753267\n",
      "Difference in mean outcomes between unprivileged and privileged groups = -0.119845\n",
      "Test Accuracy Score: 0.613\n",
      "#########################################\n",
      "Tau: 0.23\n",
      "Training Accuracy:  0.6010705197578168 , Training gamma:  0.688744107329693\n",
      "Difference in mean outcomes between unprivileged and privileged groups = -0.089704\n",
      "Test Accuracy Score: 0.604\n",
      "#########################################\n",
      "Tau: 0.46\n",
      "Training Accuracy:  0.5866799262920823 , Training gamma:  0.6775038942815195\n",
      "Difference in mean outcomes between unprivileged and privileged groups = -0.022175\n",
      "Test Accuracy Score: 0.59\n",
      "#########################################\n",
      "Tau: 0.68\n",
      "Training Accuracy:  0.5866799262920823 , Training gamma:  0.6775038942815195\n",
      "Difference in mean outcomes between unprivileged and privileged groups = -0.022175\n",
      "Test Accuracy Score: 0.59\n",
      "#########################################\n",
      "Tau: 0.90\n",
      "Training Accuracy:  0.4743923484161573 , Training gamma:  0.7351333138871446\n",
      "Difference in mean outcomes between unprivileged and privileged groups = -0.081712\n",
      "Test Accuracy Score: 0.479\n"
     ]
    }
   ],
   "source": [
    "tau_list = np.linspace(0.01, 0.90, 5)\n",
    "accuracies = []\n",
    "mean_difference = []\n",
    "for tau in tau_list:\n",
    "    print(\"#########################################\")\n",
    "    print(\"Tau: %.2f\" % tau)\n",
    "    mfc = MetaFairClassifier(tau=tau, sensitive_attr=\"sex\")\n",
    "    mfc.fit(dataset_orig_train)\n",
    "    predictions_mfc = mfc.predict(dataset_orig_test)\n",
    "    pred_labels = predictions_mfc.labels\n",
    "    predictions = [1 if y == dataset_orig_train.favorable_label else -1 for y in pred_labels]\n",
    "    metric_orig_train = BinaryLabelDatasetMetric(predictions_mfc, \n",
    "                                                 unprivileged_groups=unprivileged_groups,\n",
    "                                                 privileged_groups=privileged_groups)\n",
    "    mean_diff = metric_orig_train.mean_difference()\n",
    "    print(\"Difference in mean outcomes between unprivileged and privileged groups = %f\" % mean_diff)\n",
    "    acc = accuracy_score(predictions, y_test)\n",
    "    print(\"Test Accuracy Score:\", round(acc,3))\n",
    "    accuracies.append(acc)\n",
    "    mean_difference.append(mean_diff)"
   ]
  },
  {
   "cell_type": "markdown",
   "metadata": {},
   "source": [
    "# Results and Analysis"
   ]
  },
  {
   "cell_type": "raw",
   "metadata": {},
   "source": [
    "BEST TAU AND IT'S PRINT OUT FROM ABOVE\n",
    "'''\n",
    "#########################################\n",
    "Tau: 0.68\n",
    "Training Accuracy:  0.5866799262920823 , Training gamma:  0.6775038942815195\n",
    "Difference in mean outcomes between unprivileged and privileged groups = -0.022175\n",
    "Test Accuracy Score: 0.59\n",
    "#########################################\n",
    "'''"
   ]
  },
  {
   "cell_type": "markdown",
   "metadata": {},
   "source": [
    "#### Graphing (with unbiased algorithm)"
   ]
  },
  {
   "cell_type": "code",
   "execution_count": 14,
   "metadata": {},
   "outputs": [
    {
     "data": {
      "image/png": "[encoded data removed]",
      "text/plain": [
       "<Figure size 432x288 with 1 Axes>"
      ]
     },
     "metadata": {
      "needs_background": "light"
     },
     "output_type": "display_data"
    }
   ],
   "source": [
    "import matplotlib.pyplot as plot\n",
    "figure = plot.figure()\n",
    "axe = figure.gca()\n",
    "axe.plot(tau_list, accuracies, lw=3, label=\"Accuracy vs. Tao\")\n",
    "axe.set_xlabel(\"Tao\")\n",
    "axe.set_ylabel(\"Accuracy\")\n",
    "axe.set_title(\"Accuracy vs. Tao\")\n",
    "axe.plot([0, 1], [0, 1], color='navy', lw=3, linestyle='--')\n",
    "axe.legend()\n",
    "axe.set_aspect('equal')"
   ]
  },
  {
   "cell_type": "code",
   "execution_count": null,
   "metadata": {},
   "outputs": [],
   "source": [
    "import matplotlib.pyplot as plot\n",
    "figure = plot.figure()\n",
    "axe = figure.gca()\n",
    "axe.plot(tau_list, mean_difference, lw=3,color='orange', label=\"Mean Bias Difference vs. Tao\")\n",
    "axe.set_xlabel(\"Tao\")\n",
    "axe.set_ylabel(\"Mean Bias Difference\")\n",
    "axe.set_title(\"Mean Bias Difference vs. Tao\")\n",
    "axe.plot([0, 1], [0, 0.1], color='navy', lw=3, linestyle='--')\n",
    "axe.legend()\n",
    "axe.set_aspect('equal')"
   ]
  },
  {
   "cell_type": "code",
   "execution_count": 22,
   "metadata": {},
   "outputs": [
    {
     "data": {
      "image/png": "[encoded data removed]",
      "text/plain": [
       "<Figure size 432x288 with 1 Axes>"
      ]
     },
     "metadata": {
      "needs_background": "light"
     },
     "output_type": "display_data"
    }
   ],
   "source": [
    "import matplotlib.pyplot as plot\n",
    "figure = plot.figure()\n",
    "axe = figure.gca()\n",
    "axe.plot(accuracies, mean_difference, lw=3,color='orange', label=\"Accuracies vs. Mean Bias Difference\")\n",
    "axe.set_xlabel(\"Accuracies\")\n",
    "axe.set_ylabel(\"Mean Bias Difference\")\n",
    "axe.set_title(\"Accuracies vs. Mean Bias Difference\")\n",
    "axe.plot([0.4, 0.7], [-0.1, 0.1], color='navy', lw=3, linestyle='--')\n",
    "axe.legend()\n",
    "axe.set_aspect('equal')"
   ]
  },
  {
   "cell_type": "markdown",
   "metadata": {},
   "source": [
    "#### Interpretation\n",
    "\n",
    "The graph shows that, for almost all the Tao values, the accuracy goes down as the tao goes up. The mean bia difference is loves when tao is 0.88, coming all the way down to -0.015 from -0.19 biased model. We can clearly observe a trade-off between the accuracy score and bias reduction, as expected."
   ]
  },
  {
   "cell_type": "markdown",
   "metadata": {},
   "source": [
    "#### Other Metrices to Use\n",
    "1. FDR (False Discovery Rate): is a method of conceptualizing the rate of type I errors in null hypothesis testing when conducting multiple comparisons. (from Wikipedia) The idea of false discovery rate is to make the total number of FALSE discoveries (false positive + false negative) LOWER as a percentage of the overall discoveries."
   ]
  },
  {
   "cell_type": "markdown",
   "metadata": {},
   "source": [
    "#### FDR Code Implementation\n",
    "\n",
    "We implement the FDR metric to assess the \"fairness\" of the model from another bias related metric. Below we compare the best model from the iterations above, with the unconstrained model. This proves the reduction in bias. "
   ]
  },
  {
   "cell_type": "code",
   "execution_count": 23,
   "metadata": {},
   "outputs": [
    {
     "name": "stdout",
     "output_type": "stream",
     "text": [
      "Accuracy :  3254 14653 0.777929434245547\n",
      "SR tau :  0.24060062422550277\n",
      "FPR tau :  0.43600739741090616\n",
      "FNR tau :  0.8609189723320158\n",
      "TPR tau :  0.31004901960784315\n",
      "TNR tau :  0.980340417865866\n",
      "AR tau :  0.8224361467717171\n",
      "FDR tau :  0.4288194444444444\n",
      "FOR tau :  0.3872744450835204\n",
      "PPR tau :  0.4588815789473684\n",
      "NPR tau :  0.8136439105306991\n",
      "0.4288194444444444\n"
     ]
    }
   ],
   "source": [
    "from aif360.algorithms.inprocessing.celisMeta.utils import getStats\n",
    "\n",
    "#Unconstrained Model\n",
    "mfc = MetaFairClassifier(tau=0, sensitive_attr=\"sex\")\n",
    "mfc.fit(dataset_orig_train)\n",
    "dataset_bias_test = mfc.predict(dataset_orig_test)\n",
    "\n",
    "\n",
    "predictions = [1 if y == dataset_orig_train.favorable_label else -1 for y in list(dataset_bias_test.labels)]\n",
    "y_test = np.array([1 if y == [dataset_orig_train.favorable_label] else -1 for y in dataset_orig_test.labels])\n",
    "x_control_test = pd.DataFrame(data=dataset_orig_test.features, columns=dataset_orig_test.feature_names)[\"sex\"]\n",
    "\n",
    "acc, sr, unconstrainedFDR = getStats(y_test, predictions, x_control_test)\n",
    "print(unconstrainedFDR)"
   ]
  },
  {
   "cell_type": "code",
   "execution_count": 25,
   "metadata": {},
   "outputs": [
    {
     "name": "stdout",
     "output_type": "stream",
     "text": [
      "Accuracy :  6660 14653 0.5454855660956801\n",
      "SR tau :  0.9683859899039216\n",
      "FPR tau :  0.9120522139618913\n",
      "FNR tau :  0.6842461122379986\n",
      "TPR tau :  0.9711585968379447\n",
      "TNR tau :  0.8803995524643298\n",
      "AR tau :  0.7673932778424438\n",
      "FDR tau :  0.6863407379682039\n",
      "FOR tau :  0.2292871682218505\n",
      "PPR tau :  0.3786416244779234\n",
      "NPR tau :  0.9379752173348904\n",
      "0.6863407379682039 0.4288194444444444\n"
     ]
    }
   ],
   "source": [
    "# the best model from the iterations above had a TAO of 0.88.\n",
    "mfc = MetaFairClassifier(tau=0.88, sensitive_attr=\"sex\")\n",
    "mfc.fit(dataset_orig_train)\n",
    "dataset_bias_test = mfc.predict(dataset_orig_test)\n",
    "\n",
    "predictions = list(dataset_bias_test.labels)\n",
    "predictions = [1 if y == dataset_orig_train.favorable_label else -1 for y in predictions]\n",
    "y_test = np.array([1 if y == [dataset_orig_train.favorable_label] else -1 for y in dataset_orig_test.labels])\n",
    "x_control_test = pd.DataFrame(data=dataset_orig_test.features, columns=dataset_orig_test.feature_names)[\"sex\"]\n",
    "\n",
    "acc, sr, fdr = getStats(y_test, predictions, x_control_test)\n",
    "print(fdr, unconstrainedFDR)"
   ]
  },
  {
   "cell_type": "code",
   "execution_count": 26,
   "metadata": {},
   "outputs": [],
   "source": [
    "assert(fdr >= unconstrainedFDR)"
   ]
  },
  {
   "cell_type": "markdown",
   "metadata": {},
   "source": [
    "#### The statement above checks that the fdr with the balancing TAO gives better results than the unconstrained model in terms of fairness. "
   ]
  },
  {
   "cell_type": "code",
   "execution_count": 36,
   "metadata": {},
   "outputs": [
    {
     "data": {
      "text/plain": [
       "{'tau': 0.88, 'sensitive_attr': 'sex'}"
      ]
     },
     "execution_count": 36,
     "metadata": {},
     "output_type": "execute_result"
    }
   ],
   "source": [
    "mfc.__dict__['_params']"
   ]
  },
  {
   "cell_type": "markdown",
   "metadata": {},
   "source": [
    "# Comparison with a Logistic Regression"
   ]
  },
  {
   "cell_type": "markdown",
   "metadata": {},
   "source": [
    "#### The comparison of the model at hand with the logistic regression comes from their similarity. Similar to Logistic Regression Classifier, Meta Fair Classfier calculates loss by trying to minimize a term (bias). And therefore, the algorithms work very similarly. We do not preprocess the data for the model to be similar to the Meta Fair Classifier example.\n",
    "\n",
    "#### In the cells below you will see the logistic regression with the sensitive vairable \"sex\" and without the variable (variable was deleted). "
   ]
  },
  {
   "cell_type": "markdown",
   "metadata": {},
   "source": [
    "## With sensitive variable \"sex\""
   ]
  },
  {
   "cell_type": "code",
   "execution_count": 93,
   "metadata": {},
   "outputs": [
    {
     "name": "stdout",
     "output_type": "stream",
     "text": [
      "Accuracy Score: 0.793\n"
     ]
    }
   ],
   "source": [
    "from sklearn.linear_model import LogisticRegression\n",
    "from sklearn.metrics import accuracy_score\n",
    "\n",
    "\n",
    "df_test = pd.DataFrame.from_records(dataset_orig_test.features)\n",
    "df_test[\"labels\"] = np.concatenate(dataset_orig_test.labels, axis=0)\n",
    "y_test = df_test[\"labels\"]\n",
    "X_test = df_test.drop([\"labels\"],axis=1) \n",
    "\n",
    "df_train = pd.DataFrame.from_records(dataset_orig_train.features)\n",
    "df_train[\"labels\"] = np.concatenate(dataset_orig_train.labels, axis=0)\n",
    "y_train = df_train[\"labels\"]\n",
    "X_train = df_train.drop([\"labels\"],axis=1)\n",
    "\n",
    "clf = LogisticRegression(random_state=0).fit(X_train, y_train)\n",
    "preds = clf.predict(X_test)\n",
    "print(\"Accuracy Score:\", round(accuracy_score(preds, y_test),3))"
   ]
  },
  {
   "cell_type": "markdown",
   "metadata": {},
   "source": [
    "#### Feature Importance (Permutation Test)"
   ]
  },
  {
   "cell_type": "code",
   "execution_count": 94,
   "metadata": {},
   "outputs": [
    {
     "data": {
      "text/html": [
       "\n",
       "    <style>\n",
       "    table.eli5-weights tr:hover {\n",
       "        filter: brightness(85%);\n",
       "    }\n",
       "</style>\n",
       "\n",
       "\n",
       "\n",
       "    \n",
       "\n",
       "    \n",
       "\n",
       "    \n",
       "\n",
       "    \n",
       "\n",
       "    \n",
       "\n",
       "    \n",
       "\n",
       "\n",
       "    \n",
       "\n",
       "    \n",
       "\n",
       "    \n",
       "\n",
       "    \n",
       "\n",
       "    \n",
       "\n",
       "    \n",
       "\n",
       "\n",
       "    \n",
       "\n",
       "    \n",
       "\n",
       "    \n",
       "\n",
       "    \n",
       "\n",
       "    \n",
       "        <table class=\"eli5-weights eli5-feature-importances\" style=\"border-collapse: collapse; border: none; margin-top: 0em; table-layout: auto;\">\n",
       "    <thead>\n",
       "    <tr style=\"border: none;\">\n",
       "        <th style=\"padding: 0 1em 0 0.5em; text-align: right; border: none;\">Weight</th>\n",
       "        <th style=\"padding: 0 0.5em 0 0.5em; text-align: left; border: none;\">Feature</th>\n",
       "    </tr>\n",
       "    </thead>\n",
       "    <tbody>\n",
       "    \n",
       "        <tr style=\"background-color: hsl(120, 100.00%, 80.00%); border: none;\">\n",
       "            <td style=\"padding: 0 1em 0 0.5em; text-align: right; border: none;\">\n",
       "                0.0649\n",
       "                \n",
       "                    &plusmn; 0.0030\n",
       "                \n",
       "            </td>\n",
       "            <td style=\"padding: 0 0.5em 0 0.5em; text-align: left; border: none;\">\n",
       "                x1\n",
       "            </td>\n",
       "        </tr>\n",
       "    \n",
       "        <tr style=\"background-color: hsl(120, 100.00%, 89.97%); border: none;\">\n",
       "            <td style=\"padding: 0 1em 0 0.5em; text-align: right; border: none;\">\n",
       "                0.0242\n",
       "                \n",
       "                    &plusmn; 0.0015\n",
       "                \n",
       "            </td>\n",
       "            <td style=\"padding: 0 0.5em 0 0.5em; text-align: left; border: none;\">\n",
       "                x0\n",
       "            </td>\n",
       "        </tr>\n",
       "    \n",
       "        <tr style=\"background-color: hsl(120, 100.00%, 91.25%); border: none;\">\n",
       "            <td style=\"padding: 0 1em 0 0.5em; text-align: right; border: none;\">\n",
       "                0.0199\n",
       "                \n",
       "                    &plusmn; 0.0011\n",
       "                \n",
       "            </td>\n",
       "            <td style=\"padding: 0 0.5em 0 0.5em; text-align: left; border: none;\">\n",
       "                x2\n",
       "            </td>\n",
       "        </tr>\n",
       "    \n",
       "    \n",
       "    </tbody>\n",
       "</table>\n",
       "    \n",
       "\n",
       "    \n",
       "\n",
       "\n",
       "    \n",
       "\n",
       "    \n",
       "\n",
       "    \n",
       "\n",
       "    \n",
       "\n",
       "    \n",
       "\n",
       "    \n",
       "\n",
       "\n",
       "\n"
      ],
      "text/plain": [
       "<IPython.core.display.HTML object>"
      ]
     },
     "execution_count": 94,
     "metadata": {},
     "output_type": "execute_result"
    }
   ],
   "source": [
    "import eli5\n",
    "from eli5.sklearn import PermutationImportance\n",
    "\n",
    "perm = PermutationImportance(clf, random_state=0).fit(X_train, y_train)\n",
    "eli5.show_weights(perm)"
   ]
  },
  {
   "cell_type": "markdown",
   "metadata": {},
   "source": [
    "## Without sensitive variable \"sex\""
   ]
  },
  {
   "cell_type": "code",
   "execution_count": 95,
   "metadata": {},
   "outputs": [
    {
     "name": "stdout",
     "output_type": "stream",
     "text": [
      "Accuracy Score without the sensitive variable: 0.778\n"
     ]
    }
   ],
   "source": [
    "y_train = df_train[\"labels\"]\n",
    "X_train = df_train.drop([\"labels\", 2],axis=1)\n",
    "y_test = df_test[\"labels\"]\n",
    "X_test = df_test.drop([\"labels\", 2],axis=1) \n",
    "\n",
    "clf = LogisticRegression(random_state=0).fit(X_train, y_train)\n",
    "preds = clf.predict(X_test)\n",
    "print(\"Accuracy Score without the sensitive variable:\", round(accuracy_score(preds, y_test),3))"
   ]
  },
  {
   "cell_type": "markdown",
   "metadata": {},
   "source": [
    "#### Feature Importance (Permutation Test)"
   ]
  },
  {
   "cell_type": "code",
   "execution_count": 96,
   "metadata": {},
   "outputs": [
    {
     "data": {
      "text/html": [
       "\n",
       "    <style>\n",
       "    table.eli5-weights tr:hover {\n",
       "        filter: brightness(85%);\n",
       "    }\n",
       "</style>\n",
       "\n",
       "\n",
       "\n",
       "    \n",
       "\n",
       "    \n",
       "\n",
       "    \n",
       "\n",
       "    \n",
       "\n",
       "    \n",
       "\n",
       "    \n",
       "\n",
       "\n",
       "    \n",
       "\n",
       "    \n",
       "\n",
       "    \n",
       "\n",
       "    \n",
       "\n",
       "    \n",
       "\n",
       "    \n",
       "\n",
       "\n",
       "    \n",
       "\n",
       "    \n",
       "\n",
       "    \n",
       "\n",
       "    \n",
       "\n",
       "    \n",
       "        <table class=\"eli5-weights eli5-feature-importances\" style=\"border-collapse: collapse; border: none; margin-top: 0em; table-layout: auto;\">\n",
       "    <thead>\n",
       "    <tr style=\"border: none;\">\n",
       "        <th style=\"padding: 0 1em 0 0.5em; text-align: right; border: none;\">Weight</th>\n",
       "        <th style=\"padding: 0 0.5em 0 0.5em; text-align: left; border: none;\">Feature</th>\n",
       "    </tr>\n",
       "    </thead>\n",
       "    <tbody>\n",
       "    \n",
       "        <tr style=\"background-color: hsl(120, 100.00%, 80.00%); border: none;\">\n",
       "            <td style=\"padding: 0 1em 0 0.5em; text-align: right; border: none;\">\n",
       "                0.0584\n",
       "                \n",
       "                    &plusmn; 0.0031\n",
       "                \n",
       "            </td>\n",
       "            <td style=\"padding: 0 0.5em 0 0.5em; text-align: left; border: none;\">\n",
       "                x1\n",
       "            </td>\n",
       "        </tr>\n",
       "    \n",
       "        <tr style=\"background-color: hsl(120, 100.00%, 89.93%); border: none;\">\n",
       "            <td style=\"padding: 0 1em 0 0.5em; text-align: right; border: none;\">\n",
       "                0.0219\n",
       "                \n",
       "                    &plusmn; 0.0027\n",
       "                \n",
       "            </td>\n",
       "            <td style=\"padding: 0 0.5em 0 0.5em; text-align: left; border: none;\">\n",
       "                x0\n",
       "            </td>\n",
       "        </tr>\n",
       "    \n",
       "    \n",
       "    </tbody>\n",
       "</table>\n",
       "    \n",
       "\n",
       "    \n",
       "\n",
       "\n",
       "    \n",
       "\n",
       "    \n",
       "\n",
       "    \n",
       "\n",
       "    \n",
       "\n",
       "    \n",
       "\n",
       "    \n",
       "\n",
       "\n",
       "\n"
      ],
      "text/plain": [
       "<IPython.core.display.HTML object>"
      ]
     },
     "execution_count": 96,
     "metadata": {},
     "output_type": "execute_result"
    }
   ],
   "source": [
    "perm = PermutationImportance(clf, random_state=0).fit(X_train, y_train)\n",
    "eli5.show_weights(perm)"
   ]
  },
  {
   "cell_type": "markdown",
   "metadata": {},
   "source": [
    "## Correlation Among Variables\n",
    "#### \"2\" is the SEX variable"
   ]
  },
  {
   "cell_type": "code",
   "execution_count": 97,
   "metadata": {},
   "outputs": [
    {
     "data": {
      "text/html": [
       "<div>\n",
       "<style scoped>\n",
       "    .dataframe tbody tr th:only-of-type {\n",
       "        vertical-align: middle;\n",
       "    }\n",
       "\n",
       "    .dataframe tbody tr th {\n",
       "        vertical-align: top;\n",
       "    }\n",
       "\n",
       "    .dataframe thead th {\n",
       "        text-align: right;\n",
       "    }\n",
       "</style>\n",
       "<table border=\"1\" class=\"dataframe\">\n",
       "  <thead>\n",
       "    <tr style=\"text-align: right;\">\n",
       "      <th></th>\n",
       "      <th>0</th>\n",
       "      <th>1</th>\n",
       "      <th>2</th>\n",
       "      <th>labels</th>\n",
       "    </tr>\n",
       "  </thead>\n",
       "  <tbody>\n",
       "    <tr>\n",
       "      <th>0</th>\n",
       "      <td>1.000</td>\n",
       "      <td>0.032</td>\n",
       "      <td>0.091</td>\n",
       "      <td>0.231</td>\n",
       "    </tr>\n",
       "    <tr>\n",
       "      <th>1</th>\n",
       "      <td>0.032</td>\n",
       "      <td>1.000</td>\n",
       "      <td>0.012</td>\n",
       "      <td>0.335</td>\n",
       "    </tr>\n",
       "    <tr>\n",
       "      <th>2</th>\n",
       "      <td>0.091</td>\n",
       "      <td>0.012</td>\n",
       "      <td>1.000</td>\n",
       "      <td>0.214</td>\n",
       "    </tr>\n",
       "    <tr>\n",
       "      <th>labels</th>\n",
       "      <td>0.231</td>\n",
       "      <td>0.335</td>\n",
       "      <td>0.214</td>\n",
       "      <td>1.000</td>\n",
       "    </tr>\n",
       "  </tbody>\n",
       "</table>\n",
       "</div>"
      ],
      "text/plain": [
       "            0      1      2  labels\n",
       "0       1.000  0.032  0.091   0.231\n",
       "1       0.032  1.000  0.012   0.335\n",
       "2       0.091  0.012  1.000   0.214\n",
       "labels  0.231  0.335  0.214   1.000"
      ]
     },
     "execution_count": 97,
     "metadata": {},
     "output_type": "execute_result"
    }
   ],
   "source": [
    "round(df.corr(),3)"
   ]
  },
  {
   "cell_type": "markdown",
   "metadata": {},
   "source": [
    "## Interpretation"
   ]
  },
  {
   "cell_type": "markdown",
   "metadata": {},
   "source": [
    "### From the analysis and comparison above we come to a very important conclusion, that serves as the krux of our bias/fairness discussion. As we can see above, the logistic regression model, that works similar to Meta Fair Classifier (through minimizing an error term), achieves a much higher accuracy than MFC. Accuracy of the unconstrained model in MFC is almost the same as the accuracy of the Logistic Regression without the SEX variable. We can also see this in the Global Feature Importance graphs of the two logistic regression models. The reason both of these models have higher and very similar accuracies is because SEX is actually not a very preditive variable. This is proven by the global feature importance diagrams (0.0199) concoted through a Permuttion test.\n",
    "\n",
    "### While the imputation of the sensitive variable serves as a loss of data, we can see that it also erases bias. However, erasing sensitive variables is not enough to erase bias in most of the cases. To make sure that there is no inter variable dependency such that the deleted variable is highly corraleted with another variable, which vauses a indirect bias, we created a correlation graph above. On it, we see that none of the other two predictors are strongly correlated with the sensitive variable \"Sex\". \n",
    "\n",
    "### Overall it is important to keep these strategies in mind and decide WHEN and HOW to use IBM's algorithms. In some cases such as the one I just walked you through, using a logistic regression and imputing the SEX variale yields less bias and higher accuracy than any IBM algorithm."
   ]
  }
 ],
 "metadata": {
  "kernelspec": {
   "display_name": "Python 3",
   "language": "python",
   "name": "python3"
  },
  "language_info": {
   "codemirror_mode": {
    "name": "ipython",
    "version": 3
   },
   "file_extension": ".py",
   "mimetype": "text/x-python",
   "name": "python",
   "nbconvert_exporter": "python",
   "pygments_lexer": "ipython3",
   "version": "3.7.6"
  }
 },
 "nbformat": 4,
 "nbformat_minor": 4
}
