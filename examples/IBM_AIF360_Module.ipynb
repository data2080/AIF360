{
 "cells": [
  {
   "cell_type": "markdown",
   "metadata": {},
   "source": [
    "# Understanding Fairness Through Analyzing IBM's AIF360"
   ]
  },
  {
   "cell_type": "markdown",
   "metadata": {},
   "source": [
    "#### Welcome to a introductory module to IBM's AIF360. AIF360 is a AI Fairness package that allows users to evaluate their models for bias during preprocessing, during processing and post-processing. Furthermore, the package allows interference with the model in the three stages mentioned afore, and also serves as a tool to create fairness in your own AI or ML model."
   ]
  },
  {
   "cell_type": "markdown",
   "metadata": {},
   "source": [
    "### Importing Packages and Data"
   ]
  },
  {
   "cell_type": "code",
   "execution_count": 80,
   "metadata": {},
   "outputs": [
    {
     "name": "stdout",
     "output_type": "stream",
     "text": [
      "Requirement already satisfied: aif360 in /opt/conda/lib/python3.7/site-packages (0.2.3)\n",
      "Requirement already satisfied: scikit-learn in /opt/conda/lib/python3.7/site-packages (from aif360) (0.21.3)\n",
      "Requirement already satisfied: scipy in /opt/conda/lib/python3.7/site-packages (from aif360) (1.3.2)\n",
      "Requirement already satisfied: pandas>=0.23.3 in /opt/conda/lib/python3.7/site-packages (from aif360) (0.25.3)\n",
      "Requirement already satisfied: numpy>=1.16 in /opt/conda/lib/python3.7/site-packages (from aif360) (1.17.3)\n",
      "Requirement already satisfied: joblib>=0.11 in /opt/conda/lib/python3.7/site-packages (from scikit-learn->aif360) (0.14.1)\n",
      "Requirement already satisfied: pytz>=2017.2 in /opt/conda/lib/python3.7/site-packages (from pandas>=0.23.3->aif360) (2019.3)\n",
      "Requirement already satisfied: python-dateutil>=2.6.1 in /opt/conda/lib/python3.7/site-packages (from pandas>=0.23.3->aif360) (2.8.1)\n",
      "Requirement already satisfied: six>=1.5 in /opt/conda/lib/python3.7/site-packages (from python-dateutil>=2.6.1->pandas>=0.23.3->aif360) (1.13.0)\n"
     ]
    }
   ],
   "source": [
    "%%bash\n",
    "pip install aif360"
   ]
  },
  {
   "cell_type": "code",
   "execution_count": 97,
   "metadata": {},
   "outputs": [],
   "source": [
    "import numpy as np\n",
    "import pandas as pd\n",
    "from sklearn.metrics import accuracy_score\n",
    "# setting random seed\n",
    "np.random.seed(218)\n",
    "from aif360.datasets import AdultDataset\n",
    "from aif360.metrics import BinaryLabelDatasetMetric\n",
    "from aif360.metrics import DatasetMetric\n",
    "from aif360.algorithms.preprocessing import Reweighing\n",
    "from IPython.display import Markdown, display"
   ]
  },
  {
   "cell_type": "markdown",
   "metadata": {},
   "source": [
    "#### We will be using the AdultDataSet which serves as a CENSUS income dataset for adults with demographic information. The sensitive variable, or in other words, the variable that creates the biased \"priviledge\" is male."
   ]
  },
  {
   "cell_type": "code",
   "execution_count": 82,
   "metadata": {},
   "outputs": [
    {
     "name": "stderr",
     "output_type": "stream",
     "text": [
      "/opt/conda/lib/python3.7/site-packages/aif360/datasets/standard_dataset.py:121: FutureWarning: outer method for ufunc <ufunc 'equal'> is not implemented on pandas objects. Returning an ndarray, but in the future this will raise a 'NotImplementedError'. Consider explicitly converting the Series to an array with '.array' first.\n",
      "  priv = np.logical_or.reduce(np.equal.outer(vals, df[attr]))\n",
      "/opt/conda/lib/python3.7/site-packages/aif360/datasets/standard_dataset.py:142: FutureWarning: outer method for ufunc <ufunc 'equal'> is not implemented on pandas objects. Returning an ndarray, but in the future this will raise a 'NotImplementedError'. Consider explicitly converting the Series to an array with '.array' first.\n",
      "  df[label_name]))\n"
     ]
    },
    {
     "name": "stdout",
     "output_type": "stream",
     "text": [
      "['age', 'education-num', 'sex']\n",
      "['income-per-year']\n"
     ]
    }
   ],
   "source": [
    "single_protected = ['sex'] \n",
    "single_privileged = [['Male']]\n",
    "ad = AdultDataset(protected_attribute_names=single_protected,\n",
    "                  privileged_classes = single_privileged, \n",
    "                  categorical_features=[], \n",
    "                  # even if the priviledged features are not specified, they are kept\n",
    "                  features_to_keep=['age', 'education-num'])\n",
    "print(ad.feature_names)\n",
    "print(ad.label_names)"
   ]
  },
  {
   "cell_type": "code",
   "execution_count": 83,
   "metadata": {},
   "outputs": [],
   "source": [
    "dataset_orig_train, dataset_orig_test = ad.split([0.7], shuffle=True)\n",
    "privileged_groups = [{'sex': 1}]\n",
    "unprivileged_groups = [{'sex': 0}]"
   ]
  },
  {
   "cell_type": "markdown",
   "metadata": {},
   "source": [
    "#### Explore the Data"
   ]
  },
  {
   "cell_type": "code",
   "execution_count": 84,
   "metadata": {},
   "outputs": [
    {
     "data": {
      "text/markdown": [
       "#### Training Dataset shape"
      ],
      "text/plain": [
       "<IPython.core.display.Markdown object>"
      ]
     },
     "metadata": {},
     "output_type": "display_data"
    },
    {
     "name": "stdout",
     "output_type": "stream",
     "text": [
      "(34189, 3)\n"
     ]
    },
    {
     "data": {
      "text/markdown": [
       "#### Protected attribute names"
      ],
      "text/plain": [
       "<IPython.core.display.Markdown object>"
      ]
     },
     "metadata": {},
     "output_type": "display_data"
    },
    {
     "name": "stdout",
     "output_type": "stream",
     "text": [
      "['sex']\n"
     ]
    },
    {
     "data": {
      "text/markdown": [
       "#### Privileged and unprivileged protected attribute values"
      ],
      "text/plain": [
       "<IPython.core.display.Markdown object>"
      ]
     },
     "metadata": {},
     "output_type": "display_data"
    },
    {
     "name": "stdout",
     "output_type": "stream",
     "text": [
      "[array([1.])] [array([0.])]\n"
     ]
    },
    {
     "data": {
      "text/markdown": [
       "#### Dataset feature names"
      ],
      "text/plain": [
       "<IPython.core.display.Markdown object>"
      ]
     },
     "metadata": {},
     "output_type": "display_data"
    },
    {
     "name": "stdout",
     "output_type": "stream",
     "text": [
      "['age', 'education-num', 'sex']\n"
     ]
    }
   ],
   "source": [
    "display(Markdown(\"#### Training Dataset shape\"))\n",
    "print(dataset_orig_train.features.shape)\n",
    "display(Markdown(\"#### Protected attribute names\"))\n",
    "print(dataset_orig_train.protected_attribute_names)\n",
    "display(Markdown(\"#### Privileged and unprivileged protected attribute values\"))\n",
    "print(dataset_orig_train.privileged_protected_attributes, \n",
    "      dataset_orig_train.unprivileged_protected_attributes)\n",
    "display(Markdown(\"#### Dataset feature names\"))\n",
    "print(dataset_orig_train.feature_names)"
   ]
  },
  {
   "cell_type": "markdown",
   "metadata": {},
   "source": [
    "#### After we assign the priviledged and under-priviledged groups, we calculate the baseline fairness."
   ]
  },
  {
   "cell_type": "code",
   "execution_count": 85,
   "metadata": {},
   "outputs": [
    {
     "data": {
      "text/markdown": [
       "#### Original training dataset"
      ],
      "text/plain": [
       "<IPython.core.display.Markdown object>"
      ]
     },
     "metadata": {},
     "output_type": "display_data"
    },
    {
     "name": "stdout",
     "output_type": "stream",
     "text": [
      "Difference in mean outcomes between unprivileged and privileged groups = -0.192812\n"
     ]
    }
   ],
   "source": [
    "metric_orig_train = BinaryLabelDatasetMetric(dataset_orig_train, \n",
    "                                             unprivileged_groups=unprivileged_groups,\n",
    "                                             privileged_groups=privileged_groups)\n",
    "display(Markdown(\"#### Original training dataset\"))\n",
    "print(\"Difference in mean outcomes between unprivileged and privileged groups = %f\" % \n",
    "      metric_orig_train.mean_difference())"
   ]
  },
  {
   "cell_type": "markdown",
   "metadata": {},
   "source": [
    "#### This value shows that there is a mean difference between priviledged and underpriviledged groups, and the biad towards the privildeged group."
   ]
  },
  {
   "cell_type": "markdown",
   "metadata": {},
   "source": [
    "# Introduction of Fainess Algorithm: Inprocessing"
   ]
  },
  {
   "cell_type": "markdown",
   "metadata": {},
   "source": [
    "#### I will be introducing, executing and walking you through one of the inprocessing techniques that IBM AI360 has created to introduce fairness to the model. The interesting aspect of inprocess algorithm is the intervention the algorithm makes in the model, not post or pre analysis. \n",
    "\n",
    "#### Meta Fair Classifier takes the fairness metric, BinaryLabelDatasetMetric, as an imput and optimizes the algorithm for it. It is essentially passing the fairness metric as a loss function, and trianing the model, while sacrificing from some of the accuracy, to be more fair. The example code for this introductory modelu is inspired by https://github.com/IBM/AIF360/blob/master/aif360/algorithms/inprocessing/meta_fair_classifier.py.\n",
    "\n",
    "#### Below we create the MetaFairClassifier class, and then create the fit and predict functions for the model. Here, we train the biased model, where algorithm has a tau of 0, motivating it to not be fair:"
   ]
  },
  {
   "cell_type": "code",
   "execution_count": 86,
   "metadata": {},
   "outputs": [
    {
     "data": {
      "text/plain": [
       "<aif360.algorithms.inprocessing.meta_fair_classifier.MetaFairClassifier at 0x7f9dbe5c0ad0>"
      ]
     },
     "execution_count": 86,
     "metadata": {},
     "output_type": "execute_result"
    }
   ],
   "source": [
    "import numpy as np\n",
    "import copy\n",
    "from aif360.algorithms import Transformer\n",
    "from aif360.algorithms.inprocessing.celisMeta.FalseDiscovery import FalseDiscovery\n",
    "from aif360.algorithms.inprocessing.celisMeta.StatisticalRate import StatisticalRate\n",
    "from aif360.algorithms.inprocessing.meta_fair_classifier import MetaFairClassifier\n",
    "\n",
    "mfc = MetaFairClassifier(tau=0, sensitive_attr=\"sex\")\n",
    "mfc.fit(dataset_orig_train)"
   ]
  },
  {
   "cell_type": "markdown",
   "metadata": {},
   "source": [
    "#### Make Predictions"
   ]
  },
  {
   "cell_type": "code",
   "execution_count": 87,
   "metadata": {},
   "outputs": [],
   "source": [
    "dataset_bias_test = mfc.predict(dataset_orig_test)"
   ]
  },
  {
   "cell_type": "markdown",
   "metadata": {},
   "source": [
    "#### Assess Bias"
   ]
  },
  {
   "cell_type": "code",
   "execution_count": 88,
   "metadata": {},
   "outputs": [
    {
     "data": {
      "text/markdown": [
       "#### Original training dataset"
      ],
      "text/plain": [
       "<IPython.core.display.Markdown object>"
      ]
     },
     "metadata": {},
     "output_type": "display_data"
    },
    {
     "name": "stdout",
     "output_type": "stream",
     "text": [
      "Difference in mean outcomes between unprivileged and privileged groups = -0.062442\n",
      "We can see that the mean outcome is still biased, towards the variable as before - sex: Male.\n"
     ]
    }
   ],
   "source": [
    "metric_orig_train = BinaryLabelDatasetMetric(dataset_bias_test, \n",
    "                                             unprivileged_groups=unprivileged_groups,\n",
    "                                             privileged_groups=privileged_groups)\n",
    "display(Markdown(\"#### Original training dataset\"))\n",
    "print(\"Difference in mean outcomes between unprivileged and privileged groups = %f\" % \n",
    "      metric_orig_train.mean_difference())\n",
    "print(\"We can see that the mean outcome is still biased, towards the variable as before - sex: Male.\")"
   ]
  },
  {
   "cell_type": "markdown",
   "metadata": {},
   "source": [
    "#### Accuracy of the Unconstrained Model"
   ]
  },
  {
   "cell_type": "code",
   "execution_count": 99,
   "metadata": {},
   "outputs": [
    {
     "name": "stdout",
     "output_type": "stream",
     "text": [
      "Accuracy Score: 0.778\n"
     ]
    }
   ],
   "source": [
    "predictions = [1 if y == dataset_orig_train.favorable_label else -1 for y in list(dataset_bias_test.labels)]\n",
    "y_test = np.array([1 if y == [dataset_orig_train.favorable_label] else -1 for y in dataset_orig_test.labels])\n",
    "print(\"Accuracy Score:\", round(accuracy_score(predictions, y_test),3))"
   ]
  },
  {
   "cell_type": "markdown",
   "metadata": {},
   "source": [
    "#### Now we will change the tau values in the algorithm to introduce fairness into the model, to see how the accuracy score and the fairness metric changes with it."
   ]
  },
  {
   "cell_type": "code",
   "execution_count": 104,
   "metadata": {},
   "outputs": [
    {
     "name": "stdout",
     "output_type": "stream",
     "text": [
      "#########################################\n",
      "Tau: 0.01\n",
      "Training Accuracy:  0.6112784813829009 , Training gamma:  0.6925396834753267\n",
      "Difference in mean outcomes between unprivileged and privileged groups = -0.119845\n",
      "Test Accuracy Score: 0.613\n",
      "#########################################\n",
      "Tau: 0.12\n",
      "Training Accuracy:  0.605487144988154 , Training gamma:  0.6898865741357078\n",
      "Difference in mean outcomes between unprivileged and privileged groups = -0.101610\n",
      "Test Accuracy Score: 0.608\n",
      "#########################################\n",
      "Tau: 0.23\n",
      "Training Accuracy:  0.6044341747345637 , Training gamma:  0.6901179588784879\n",
      "Difference in mean outcomes between unprivileged and privileged groups = -0.101990\n",
      "Test Accuracy Score: 0.606\n",
      "#########################################\n",
      "Tau: 0.34\n",
      "Training Accuracy:  0.5963321536166604 , Training gamma:  0.6939808846675622\n",
      "Difference in mean outcomes between unprivileged and privileged groups = -0.104616\n",
      "Test Accuracy Score: 0.6\n",
      "#########################################\n",
      "Tau: 0.45\n",
      "Training Accuracy:  0.5866799262920823 , Training gamma:  0.6775038942815195\n",
      "Difference in mean outcomes between unprivileged and privileged groups = -0.022175\n",
      "Test Accuracy Score: 0.59\n",
      "#########################################\n",
      "Tau: 0.55\n",
      "Training Accuracy:  0.5866799262920823 , Training gamma:  0.6775038942815195\n",
      "Difference in mean outcomes between unprivileged and privileged groups = -0.022175\n",
      "Test Accuracy Score: 0.59\n",
      "#########################################\n",
      "Tau: 0.66\n",
      "Training Accuracy:  0.5866799262920823 , Training gamma:  0.6775038942815195\n",
      "Difference in mean outcomes between unprivileged and privileged groups = -0.022175\n",
      "Test Accuracy Score: 0.59\n",
      "#########################################\n",
      "Tau: 0.77\n",
      "Training Accuracy:  0.7902249261458364 , Training gamma:  0.5760910552624355\n",
      "Difference in mean outcomes between unprivileged and privileged groups = -0.125206\n",
      "Test Accuracy Score: 0.785\n",
      "#########################################\n",
      "Tau: 0.88\n",
      "Training Accuracy:  0.5477785252566615 , Training gamma:  0.6917244552102103\n",
      "Difference in mean outcomes between unprivileged and privileged groups = -0.015778\n",
      "Test Accuracy Score: 0.554\n",
      "#########################################\n",
      "Tau: 0.99\n",
      "Training Accuracy:  0 , Training gamma:  0\n"
     ]
    },
    {
     "ename": "IndexError",
     "evalue": "list index out of range",
     "output_type": "error",
     "traceback": [
      "\u001b[0;31m---------------------------------------------------------------------------\u001b[0m",
      "\u001b[0;31mIndexError\u001b[0m                                Traceback (most recent call last)",
      "\u001b[0;32m<ipython-input-104-f02522ae4cac>\u001b[0m in \u001b[0;36m<module>\u001b[0;34m\u001b[0m\n\u001b[1;32m      7\u001b[0m     \u001b[0mmfc\u001b[0m \u001b[0;34m=\u001b[0m \u001b[0mMetaFairClassifier\u001b[0m\u001b[0;34m(\u001b[0m\u001b[0mtau\u001b[0m\u001b[0;34m=\u001b[0m\u001b[0mtau\u001b[0m\u001b[0;34m,\u001b[0m \u001b[0msensitive_attr\u001b[0m\u001b[0;34m=\u001b[0m\u001b[0;34m\"sex\"\u001b[0m\u001b[0;34m)\u001b[0m\u001b[0;34m\u001b[0m\u001b[0;34m\u001b[0m\u001b[0m\n\u001b[1;32m      8\u001b[0m     \u001b[0mmfc\u001b[0m\u001b[0;34m.\u001b[0m\u001b[0mfit\u001b[0m\u001b[0;34m(\u001b[0m\u001b[0mdataset_orig_train\u001b[0m\u001b[0;34m)\u001b[0m\u001b[0;34m\u001b[0m\u001b[0;34m\u001b[0m\u001b[0m\n\u001b[0;32m----> 9\u001b[0;31m     \u001b[0mpredictions_mfc\u001b[0m \u001b[0;34m=\u001b[0m \u001b[0mmfc\u001b[0m\u001b[0;34m.\u001b[0m\u001b[0mpredict\u001b[0m\u001b[0;34m(\u001b[0m\u001b[0mdataset_orig_test\u001b[0m\u001b[0;34m)\u001b[0m\u001b[0;34m\u001b[0m\u001b[0;34m\u001b[0m\u001b[0m\n\u001b[0m\u001b[1;32m     10\u001b[0m     \u001b[0mpred_labels\u001b[0m \u001b[0;34m=\u001b[0m \u001b[0mpredictions_mfc\u001b[0m\u001b[0;34m.\u001b[0m\u001b[0mlabels\u001b[0m\u001b[0;34m\u001b[0m\u001b[0;34m\u001b[0m\u001b[0m\n\u001b[1;32m     11\u001b[0m     \u001b[0mpredictions\u001b[0m \u001b[0;34m=\u001b[0m \u001b[0;34m[\u001b[0m\u001b[0;36m1\u001b[0m \u001b[0;32mif\u001b[0m \u001b[0my\u001b[0m \u001b[0;34m==\u001b[0m \u001b[0mdataset_orig_train\u001b[0m\u001b[0;34m.\u001b[0m\u001b[0mfavorable_label\u001b[0m \u001b[0;32melse\u001b[0m \u001b[0;34m-\u001b[0m\u001b[0;36m1\u001b[0m \u001b[0;32mfor\u001b[0m \u001b[0my\u001b[0m \u001b[0;32min\u001b[0m \u001b[0mpred_labels\u001b[0m\u001b[0;34m]\u001b[0m\u001b[0;34m\u001b[0m\u001b[0;34m\u001b[0m\u001b[0m\n",
      "\u001b[0;32m/opt/conda/lib/python3.7/site-packages/aif360/algorithms/transformer.py\u001b[0m in \u001b[0;36mwrapper\u001b[0;34m(self, *args, **kwargs)\u001b[0m\n\u001b[1;32m     25\u001b[0m     \u001b[0;34m@\u001b[0m\u001b[0mwraps\u001b[0m\u001b[0;34m(\u001b[0m\u001b[0mfunc\u001b[0m\u001b[0;34m)\u001b[0m\u001b[0;34m\u001b[0m\u001b[0;34m\u001b[0m\u001b[0m\n\u001b[1;32m     26\u001b[0m     \u001b[0;32mdef\u001b[0m \u001b[0mwrapper\u001b[0m\u001b[0;34m(\u001b[0m\u001b[0mself\u001b[0m\u001b[0;34m,\u001b[0m \u001b[0;34m*\u001b[0m\u001b[0margs\u001b[0m\u001b[0;34m,\u001b[0m \u001b[0;34m**\u001b[0m\u001b[0mkwargs\u001b[0m\u001b[0;34m)\u001b[0m\u001b[0;34m:\u001b[0m\u001b[0;34m\u001b[0m\u001b[0;34m\u001b[0m\u001b[0m\n\u001b[0;32m---> 27\u001b[0;31m         \u001b[0mnew_dataset\u001b[0m \u001b[0;34m=\u001b[0m \u001b[0mfunc\u001b[0m\u001b[0;34m(\u001b[0m\u001b[0mself\u001b[0m\u001b[0;34m,\u001b[0m \u001b[0;34m*\u001b[0m\u001b[0margs\u001b[0m\u001b[0;34m,\u001b[0m \u001b[0;34m**\u001b[0m\u001b[0mkwargs\u001b[0m\u001b[0;34m)\u001b[0m\u001b[0;34m\u001b[0m\u001b[0;34m\u001b[0m\u001b[0m\n\u001b[0m\u001b[1;32m     28\u001b[0m         \u001b[0;32mif\u001b[0m \u001b[0misinstance\u001b[0m\u001b[0;34m(\u001b[0m\u001b[0mnew_dataset\u001b[0m\u001b[0;34m,\u001b[0m \u001b[0mDataset\u001b[0m\u001b[0;34m)\u001b[0m\u001b[0;34m:\u001b[0m\u001b[0;34m\u001b[0m\u001b[0;34m\u001b[0m\u001b[0m\n\u001b[1;32m     29\u001b[0m             \u001b[0mnew_dataset\u001b[0m\u001b[0;34m.\u001b[0m\u001b[0mmetadata\u001b[0m \u001b[0;34m=\u001b[0m \u001b[0mnew_dataset\u001b[0m\u001b[0;34m.\u001b[0m\u001b[0mmetadata\u001b[0m\u001b[0;34m.\u001b[0m\u001b[0mcopy\u001b[0m\u001b[0;34m(\u001b[0m\u001b[0;34m)\u001b[0m\u001b[0;34m\u001b[0m\u001b[0;34m\u001b[0m\u001b[0m\n",
      "\u001b[0;32m/opt/conda/lib/python3.7/site-packages/aif360/algorithms/inprocessing/meta_fair_classifier.py\u001b[0m in \u001b[0;36mpredict\u001b[0;34m(self, dataset)\u001b[0m\n\u001b[1;32m     75\u001b[0m         \u001b[0mpredictions\u001b[0m\u001b[0;34m,\u001b[0m \u001b[0mscores\u001b[0m \u001b[0;34m=\u001b[0m \u001b[0;34m[\u001b[0m\u001b[0;34m]\u001b[0m\u001b[0;34m,\u001b[0m \u001b[0;34m[\u001b[0m\u001b[0;34m]\u001b[0m\u001b[0;34m\u001b[0m\u001b[0;34m\u001b[0m\u001b[0m\n\u001b[1;32m     76\u001b[0m         \u001b[0;32mfor\u001b[0m \u001b[0mx\u001b[0m \u001b[0;32min\u001b[0m \u001b[0mdataset\u001b[0m\u001b[0;34m.\u001b[0m\u001b[0mfeatures\u001b[0m\u001b[0;34m:\u001b[0m\u001b[0;34m\u001b[0m\u001b[0;34m\u001b[0m\u001b[0m\n\u001b[0;32m---> 77\u001b[0;31m             \u001b[0mt\u001b[0m \u001b[0;34m=\u001b[0m \u001b[0mself\u001b[0m\u001b[0;34m.\u001b[0m\u001b[0mmodel\u001b[0m\u001b[0;34m(\u001b[0m\u001b[0mx\u001b[0m\u001b[0;34m)\u001b[0m\u001b[0;34m\u001b[0m\u001b[0;34m\u001b[0m\u001b[0m\n\u001b[0m\u001b[1;32m     78\u001b[0m             \u001b[0mpredictions\u001b[0m\u001b[0;34m.\u001b[0m\u001b[0mappend\u001b[0m\u001b[0;34m(\u001b[0m\u001b[0mint\u001b[0m\u001b[0;34m(\u001b[0m\u001b[0mt\u001b[0m \u001b[0;34m>\u001b[0m \u001b[0;36m0\u001b[0m\u001b[0;34m)\u001b[0m\u001b[0;34m)\u001b[0m\u001b[0;34m\u001b[0m\u001b[0;34m\u001b[0m\u001b[0m\n\u001b[1;32m     79\u001b[0m             \u001b[0mscores\u001b[0m\u001b[0;34m.\u001b[0m\u001b[0mappend\u001b[0m\u001b[0;34m(\u001b[0m\u001b[0;34m(\u001b[0m\u001b[0mt\u001b[0m\u001b[0;34m+\u001b[0m\u001b[0;36m1\u001b[0m\u001b[0;34m)\u001b[0m\u001b[0;34m/\u001b[0m\u001b[0;36m2\u001b[0m\u001b[0;34m)\u001b[0m\u001b[0;34m\u001b[0m\u001b[0;34m\u001b[0m\u001b[0m\n",
      "\u001b[0;32m/opt/conda/lib/python3.7/site-packages/aif360/algorithms/inprocessing/celisMeta/General.py\u001b[0m in \u001b[0;36mmodel\u001b[0;34m(x)\u001b[0m\n\u001b[1;32m    122\u001b[0m                 \u001b[0mprint\u001b[0m\u001b[0;34m(\u001b[0m\u001b[0;34m\"Training Accuracy: \"\u001b[0m\u001b[0;34m,\u001b[0m \u001b[0mmaxAcc\u001b[0m\u001b[0;34m,\u001b[0m \u001b[0;34m\", Training gamma: \"\u001b[0m\u001b[0;34m,\u001b[0m \u001b[0mmaxGamma\u001b[0m\u001b[0;34m)\u001b[0m\u001b[0;34m\u001b[0m\u001b[0;34m\u001b[0m\u001b[0m\n\u001b[1;32m    123\u001b[0m                 \u001b[0;32mdef\u001b[0m \u001b[0mmodel\u001b[0m\u001b[0;34m(\u001b[0m\u001b[0mx\u001b[0m\u001b[0;34m)\u001b[0m\u001b[0;34m:\u001b[0m\u001b[0;34m\u001b[0m\u001b[0;34m\u001b[0m\u001b[0m\n\u001b[0;32m--> 124\u001b[0;31m                         \u001b[0;32mreturn\u001b[0m \u001b[0mself\u001b[0m\u001b[0;34m.\u001b[0m\u001b[0mgetValueForX\u001b[0m\u001b[0;34m(\u001b[0m\u001b[0mdist_params\u001b[0m\u001b[0;34m,\u001b[0m \u001b[0mp\u001b[0m\u001b[0;34m,\u001b[0m \u001b[0mq\u001b[0m\u001b[0;34m,\u001b[0m \u001b[0mparamsOpt\u001b[0m\u001b[0;34m,\u001b[0m \u001b[0msamples\u001b[0m\u001b[0;34m,\u001b[0m  \u001b[0mz_0\u001b[0m\u001b[0;34m,\u001b[0m \u001b[0mz_1\u001b[0m\u001b[0;34m,\u001b[0m \u001b[0mx\u001b[0m\u001b[0;34m,\u001b[0m \u001b[0;36m0\u001b[0m\u001b[0;34m)\u001b[0m\u001b[0;34m\u001b[0m\u001b[0;34m\u001b[0m\u001b[0m\n\u001b[0m\u001b[1;32m    125\u001b[0m \u001b[0;34m\u001b[0m\u001b[0m\n\u001b[1;32m    126\u001b[0m                 \u001b[0;32mreturn\u001b[0m \u001b[0mmodel\u001b[0m\u001b[0;34m\u001b[0m\u001b[0;34m\u001b[0m\u001b[0m\n",
      "\u001b[0;32m/opt/conda/lib/python3.7/site-packages/aif360/algorithms/inprocessing/celisMeta/FalseDiscovery.py\u001b[0m in \u001b[0;36mgetValueForX\u001b[0;34m(self, dist_params, a, b, params, samples, z_0, z_1, x, flag)\u001b[0m\n\u001b[1;32m     64\u001b[0m \u001b[0;34m\u001b[0m\u001b[0m\n\u001b[1;32m     65\u001b[0m         \u001b[0;32mdef\u001b[0m \u001b[0mgetValueForX\u001b[0m\u001b[0;34m(\u001b[0m\u001b[0mself\u001b[0m\u001b[0;34m,\u001b[0m \u001b[0mdist_params\u001b[0m\u001b[0;34m,\u001b[0m \u001b[0ma\u001b[0m\u001b[0;34m,\u001b[0m\u001b[0mb\u001b[0m\u001b[0;34m,\u001b[0m \u001b[0mparams\u001b[0m\u001b[0;34m,\u001b[0m \u001b[0msamples\u001b[0m\u001b[0;34m,\u001b[0m  \u001b[0mz_0\u001b[0m\u001b[0;34m,\u001b[0m \u001b[0mz_1\u001b[0m\u001b[0;34m,\u001b[0m \u001b[0mx\u001b[0m\u001b[0;34m,\u001b[0m \u001b[0mflag\u001b[0m\u001b[0;34m)\u001b[0m\u001b[0;34m:\u001b[0m\u001b[0;34m\u001b[0m\u001b[0;34m\u001b[0m\u001b[0m\n\u001b[0;32m---> 66\u001b[0;31m                                 \u001b[0mu_1\u001b[0m\u001b[0;34m,\u001b[0m \u001b[0mu_2\u001b[0m\u001b[0;34m,\u001b[0m \u001b[0ml_1\u001b[0m\u001b[0;34m,\u001b[0m \u001b[0ml_2\u001b[0m \u001b[0;34m=\u001b[0m \u001b[0mparams\u001b[0m\u001b[0;34m[\u001b[0m\u001b[0;36m0\u001b[0m\u001b[0;34m]\u001b[0m\u001b[0;34m,\u001b[0m \u001b[0mparams\u001b[0m\u001b[0;34m[\u001b[0m\u001b[0;36m1\u001b[0m\u001b[0;34m]\u001b[0m\u001b[0;34m,\u001b[0m \u001b[0mparams\u001b[0m\u001b[0;34m[\u001b[0m\u001b[0;36m2\u001b[0m\u001b[0;34m]\u001b[0m\u001b[0;34m,\u001b[0m \u001b[0mparams\u001b[0m\u001b[0;34m[\u001b[0m\u001b[0;36m3\u001b[0m\u001b[0;34m]\u001b[0m\u001b[0;34m\u001b[0m\u001b[0;34m\u001b[0m\u001b[0m\n\u001b[0m\u001b[1;32m     67\u001b[0m                                 \u001b[0;31m#print (params)\u001b[0m\u001b[0;34m\u001b[0m\u001b[0;34m\u001b[0m\u001b[0;34m\u001b[0m\u001b[0m\n\u001b[1;32m     68\u001b[0m                                 \u001b[0ma\u001b[0m\u001b[0;34m,\u001b[0m \u001b[0mb\u001b[0m \u001b[0;34m=\u001b[0m \u001b[0ma\u001b[0m\u001b[0;34m[\u001b[0m\u001b[0;36m0\u001b[0m\u001b[0;34m]\u001b[0m\u001b[0;34m,\u001b[0m \u001b[0mb\u001b[0m\u001b[0;34m[\u001b[0m\u001b[0;36m0\u001b[0m\u001b[0;34m]\u001b[0m\u001b[0;34m\u001b[0m\u001b[0;34m\u001b[0m\u001b[0m\n",
      "\u001b[0;31mIndexError\u001b[0m: list index out of range"
     ]
    }
   ],
   "source": [
    "tau_list = np.linspace(0.01, 0.90, 10)\n",
    "accuracies = []\n",
    "mean_difference = []\n",
    "for tau in tau_list:\n",
    "    print(\"#########################################\")\n",
    "    print(\"Tau: %.2f\" % tau)\n",
    "    mfc = MetaFairClassifier(tau=tau, sensitive_attr=\"sex\")\n",
    "    mfc.fit(dataset_orig_train)\n",
    "    predictions_mfc = mfc.predict(dataset_orig_test)\n",
    "    pred_labels = predictions_mfc.labels\n",
    "    predictions = [1 if y == dataset_orig_train.favorable_label else -1 for y in pred_labels]\n",
    "    metric_orig_train = BinaryLabelDatasetMetric(predictions_mfc, \n",
    "                                                 unprivileged_groups=unprivileged_groups,\n",
    "                                                 privileged_groups=privileged_groups)\n",
    "    mean_diff = metric_orig_train.mean_difference()\n",
    "    print(\"Difference in mean outcomes between unprivileged and privileged groups = %f\" % mean_diff)\n",
    "    acc = accuracy_score(predictions, y_test)\n",
    "    print(\"Test Accuracy Score:\", round(acc,3))\n",
    "    accuracies.append(acc)\n",
    "    mean_difference.append(mean_diff)"
   ]
  },
  {
   "cell_type": "markdown",
   "metadata": {},
   "source": [
    "# Results and Analysis"
   ]
  },
  {
   "cell_type": "raw",
   "metadata": {},
   "source": [
    "BEST TAU AND IT'S PRINT OUT FROM ABOVE\n",
    "'''\n",
    "Tau: 0.88\n",
    "Training Accuracy:  0.5477785252566615 , Training gamma:  0.6917244552102103\n",
    "Difference in mean outcomes between unprivileged and privileged groups = -0.015778\n",
    "Test Accuracy Score: 0.554\n",
    "'''"
   ]
  },
  {
   "cell_type": "markdown",
   "metadata": {},
   "source": [
    "#### Graphing (with unbiased algorithm)"
   ]
  },
  {
   "cell_type": "code",
   "execution_count": 125,
   "metadata": {},
   "outputs": [
    {
     "data": {
      "image/png": "[encoded data removed]",
      "text/plain": [
       "<Figure size 432x288 with 1 Axes>"
      ]
     },
     "metadata": {
      "needs_background": "light"
     },
     "output_type": "display_data"
    }
   ],
   "source": [
    "import matplotlib.pyplot as plot\n",
    "figure = plot.figure()\n",
    "axe = figure.gca()\n",
    "axe.plot(tau_list[:-1], accuracies, lw=3, label=\"Accuracy vs. Tao\")\n",
    "axe.set_xlabel(\"Tao\")\n",
    "axe.set_ylabel(\"Accuracy\")\n",
    "axe.set_title(\"Accuracy vs. Tao\")\n",
    "axe.plot([0, 1], [0, 1], color='navy', lw=3, linestyle='--')\n",
    "axe.legend()\n",
    "axe.set_aspect('equal')"
   ]
  },
  {
   "cell_type": "code",
   "execution_count": 124,
   "metadata": {},
   "outputs": [
    {
     "data": {
      "image/png": "[encoded data removed]",
      "text/plain": [
       "<Figure size 432x288 with 1 Axes>"
      ]
     },
     "metadata": {
      "needs_background": "light"
     },
     "output_type": "display_data"
    }
   ],
   "source": [
    "import matplotlib.pyplot as plot\n",
    "figure = plot.figure()\n",
    "axe = figure.gca()\n",
    "axe.plot(tau_list[:-1], mean_difference, lw=3,color='orange', label=\"Mean Bias Difference vs. Tao\")\n",
    "axe.set_xlabel(\"Tao\")\n",
    "axe.set_ylabel(\"Mean Bias Difference vs. Tao\")\n",
    "axe.set_title(\"Mean Bias Difference vs. Tao\")\n",
    "axe.plot([0, 1], [0, 1], color='navy', lw=3, linestyle='--')\n",
    "axe.legend()\n",
    "axe.set_aspect('equal')"
   ]
  },
  {
   "cell_type": "markdown",
   "metadata": {},
   "source": [
    "#### Interpretation\n",
    "\n",
    "The graph shows that, for almost all the Tao values, the accuracy goes down as the tao goes up. The mean bia difference is loves when tao is 0.88, coming all the way down to -0.015 from -0.19 biased model. We can clearly observe a trade-off between the accuracy score and bias reduction, as expected."
   ]
  },
  {
   "cell_type": "markdown",
   "metadata": {},
   "source": [
    "#### Other Metrices to Use\n",
    "1. FDR (False Discovery Rate): is a method of conceptualizing the rate of type I errors in null hypothesis testing when conducting multiple comparisons. (from Wikipedia) The idea of false discovery rate is to make the total number of FALSE discoveries (false positive + false negative) LOWER as a percentage of the overall discoveries."
   ]
  },
  {
   "cell_type": "markdown",
   "metadata": {},
   "source": [
    "#### FDR Code Implementation\n",
    "\n",
    "We implement the FDR metric to assess the \"accuracy\" of the model from another bia related metric. Below we compare the best model from the iterations above, with the unconstrained model. This proves the reduction in bias. "
   ]
  },
  {
   "cell_type": "code",
   "execution_count": 129,
   "metadata": {},
   "outputs": [
    {
     "name": "stdout",
     "output_type": "stream",
     "text": [
      "Accuracy :  3254 14653 0.777929434245547\n",
      "SR tau :  0.24060062422550277\n",
      "FPR tau :  0.43600739741090616\n",
      "FNR tau :  0.8609189723320158\n",
      "TPR tau :  0.31004901960784315\n",
      "TNR tau :  0.980340417865866\n",
      "AR tau :  0.8224361467717171\n",
      "FDR tau :  0.4288194444444444\n",
      "FOR tau :  0.3872744450835204\n",
      "PPR tau :  0.4588815789473684\n",
      "NPR tau :  0.8136439105306991\n",
      "0.4288194444444444\n"
     ]
    }
   ],
   "source": [
    "from aif360.algorithms.inprocessing.celisMeta.utils import getStats\n",
    "\n",
    "#Unconstrained Model\n",
    "mfc = MetaFairClassifier(tau=0, sensitive_attr=\"sex\")\n",
    "mfc.fit(dataset_orig_train)\n",
    "dataset_bias_test = mfc.predict(dataset_orig_test)\n",
    "\n",
    "\n",
    "predictions = [1 if y == dataset_orig_train.favorable_label else -1 for y in list(dataset_bias_test.labels)]\n",
    "y_test = np.array([1 if y == [dataset_orig_train.favorable_label] else -1 for y in dataset_orig_test.labels])\n",
    "x_control_test = pd.DataFrame(data=dataset_orig_test.features, columns=dataset_orig_test.feature_names)[\"sex\"]\n",
    "\n",
    "acc, sr, unconstrainedFDR = getStats(y_test, predictions, x_control_test)\n",
    "print(unconstrainedFDR)"
   ]
  },
  {
   "cell_type": "code",
   "execution_count": 130,
   "metadata": {},
   "outputs": [
    {
     "name": "stdout",
     "output_type": "stream",
     "text": [
      "Training Accuracy:  0.5383017929743485 , Training gamma:  0.6980020035235538\n"
     ]
    },
    {
     "ename": "NameError",
     "evalue": "name 'biased_model' is not defined",
     "output_type": "error",
     "traceback": [
      "\u001b[0;31m---------------------------------------------------------------------------\u001b[0m",
      "\u001b[0;31mNameError\u001b[0m                                 Traceback (most recent call last)",
      "\u001b[0;32m<ipython-input-130-31bfbefc1b40>\u001b[0m in \u001b[0;36m<module>\u001b[0;34m\u001b[0m\n\u001b[1;32m      2\u001b[0m \u001b[0mmfc\u001b[0m \u001b[0;34m=\u001b[0m \u001b[0mMetaFairClassifier\u001b[0m\u001b[0;34m(\u001b[0m\u001b[0mtau\u001b[0m\u001b[0;34m=\u001b[0m\u001b[0;36m0.88\u001b[0m\u001b[0;34m,\u001b[0m \u001b[0msensitive_attr\u001b[0m\u001b[0;34m=\u001b[0m\u001b[0;34m\"sex\"\u001b[0m\u001b[0;34m)\u001b[0m\u001b[0;34m\u001b[0m\u001b[0;34m\u001b[0m\u001b[0m\n\u001b[1;32m      3\u001b[0m \u001b[0mmfc\u001b[0m\u001b[0;34m.\u001b[0m\u001b[0mfit\u001b[0m\u001b[0;34m(\u001b[0m\u001b[0mdataset_orig_train\u001b[0m\u001b[0;34m)\u001b[0m\u001b[0;34m\u001b[0m\u001b[0;34m\u001b[0m\u001b[0m\n\u001b[0;32m----> 4\u001b[0;31m \u001b[0mdataset_bias_test\u001b[0m \u001b[0;34m=\u001b[0m \u001b[0mbiased_model\u001b[0m\u001b[0;34m.\u001b[0m\u001b[0mpredict\u001b[0m\u001b[0;34m(\u001b[0m\u001b[0mdataset_orig_test\u001b[0m\u001b[0;34m)\u001b[0m\u001b[0;34m\u001b[0m\u001b[0;34m\u001b[0m\u001b[0m\n\u001b[0m\u001b[1;32m      5\u001b[0m \u001b[0;34m\u001b[0m\u001b[0m\n\u001b[1;32m      6\u001b[0m \u001b[0mpredictions\u001b[0m \u001b[0;34m=\u001b[0m \u001b[0mlist\u001b[0m\u001b[0;34m(\u001b[0m\u001b[0mdataset_debiasing_test\u001b[0m\u001b[0;34m.\u001b[0m\u001b[0mlabels\u001b[0m\u001b[0;34m)\u001b[0m\u001b[0;34m\u001b[0m\u001b[0;34m\u001b[0m\u001b[0m\n",
      "\u001b[0;31mNameError\u001b[0m: name 'biased_model' is not defined"
     ]
    }
   ],
   "source": [
    "# the best model from the iterations above had a TAO of 0.88.\n",
    "mfc = MetaFairClassifier(tau=0.88, sensitive_attr=\"sex\")\n",
    "mfc.fit(dataset_orig_train)"
   ]
  },
  {
   "cell_type": "code",
   "execution_count": 131,
   "metadata": {},
   "outputs": [
    {
     "name": "stdout",
     "output_type": "stream",
     "text": [
      "Accuracy :  5672 14653 0.6129120316658705\n",
      "SR tau :  0.8000013123449397\n",
      "FPR tau :  0.9130276132539338\n",
      "FNR tau :  0.6943346508563901\n",
      "TPR tau :  0.9308788818438468\n",
      "TNR tau :  0.9253680086167871\n",
      "AR tau :  0.93946485365946\n",
      "FDR tau :  0.6808922089217645\n",
      "FOR tau :  0.39480000000000004\n",
      "PPR tau :  0.41435204806001147\n",
      "NPR tau :  0.9341294990910202\n",
      "0.6808922089217645 0.4288194444444444\n"
     ]
    }
   ],
   "source": [
    "dataset_bias_test = mfc.predict(dataset_orig_test)\n",
    "\n",
    "predictions = list(dataset_debiasing_test.labels)\n",
    "predictions = [1 if y == dataset_orig_train.favorable_label else -1 for y in predictions]\n",
    "y_test = np.array([1 if y == [dataset_orig_train.favorable_label] else -1 for y in dataset_orig_test.labels])\n",
    "x_control_test = pd.DataFrame(data=dataset_orig_test.features, columns=dataset_orig_test.feature_names)[\"sex\"]\n",
    "\n",
    "acc, sr, fdr = getStats(y_test, predictions, x_control_test)\n",
    "print(fdr, unconstrainedFDR)"
   ]
  },
  {
   "cell_type": "code",
   "execution_count": 132,
   "metadata": {},
   "outputs": [],
   "source": [
    "assert(fdr >= unconstrainedFDR)"
   ]
  },
  {
   "cell_type": "code",
   "execution_count": null,
   "metadata": {},
   "outputs": [],
   "source": []
  }
 ],
 "metadata": {
  "kernelspec": {
   "display_name": "Python 3",
   "language": "python",
   "name": "python3"
  },
  "language_info": {
   "codemirror_mode": {
    "name": "ipython",
    "version": 3
   },
   "file_extension": ".py",
   "mimetype": "text/x-python",
   "name": "python",
   "nbconvert_exporter": "python",
   "pygments_lexer": "ipython3",
   "version": "3.7.6"
  }
 },
 "nbformat": 4,
 "nbformat_minor": 4
}
